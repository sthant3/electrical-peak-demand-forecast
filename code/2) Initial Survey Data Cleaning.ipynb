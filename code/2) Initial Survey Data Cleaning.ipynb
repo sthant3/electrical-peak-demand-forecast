{
 "cells": [
  {
   "cell_type": "markdown",
   "metadata": {},
   "source": [
    "This script filters households based on certain criteria to ensure only households with high-quality responses are kept.\n",
    "\n",
    "Data sources:\n",
    "- Selected survey questions: 'selected_survey_questions.csv'\n",
    "- Responses to selected survey questions: 'responses_to_selected_survey_questions.csv'\n",
    "\n",
    "Both files should be in the same directory as this script."
   ]
  },
  {
   "cell_type": "code",
   "execution_count": 1,
   "metadata": {},
   "outputs": [
    {
     "name": "stdout",
     "output_type": "stream",
     "text": [
      "Number of households in group D who responded to the survey: 942\n"
     ]
    }
   ],
   "source": [
    "import pandas as pd\n",
    "import numpy as np\n",
    "import matplotlib.pyplot as plt\n",
    "import seaborn as sns\n",
    "\n",
    "# Load the datasets\n",
    "df_questions = pd.read_csv('selected_survey_questions.csv')\n",
    "df_survey_raw = pd.read_csv('responses_to_selected_survey_questions.csv')\n",
    "\n",
    "# Filter only households in group D, the treatment group\n",
    "df_survey_d = df_survey_raw[df_survey_raw['Household_id'].str.startswith('D')]\n",
    "print(f\"Number of households in group D who responded to the survey: {len(df_survey_d)}\")"
   ]
  },
  {
   "cell_type": "markdown",
   "metadata": {},
   "source": [
    "# Remove households based on certain criteria"
   ]
  },
  {
   "cell_type": "code",
   "execution_count": 2,
   "metadata": {},
   "outputs": [
    {
     "name": "stdout",
     "output_type": "stream",
     "text": [
      "Number of households removed based on predefined list: 18\n",
      "Number of households remaining after removal: 927\n",
      "2. Number of households removed due to lack of response to attitudes survey: 246\n",
      "3. Number of households removed due to lack of response to appliances survey: 58\n",
      "\n",
      "Total households removed: 304\n",
      "Final number of households: 623\n"
     ]
    },
    {
     "name": "stderr",
     "output_type": "stream",
     "text": [
      "C:\\Users\\RaiN\\AppData\\Local\\Temp\\ipykernel_36664\\4010653781.py:16: SettingWithCopyWarning: \n",
      "A value is trying to be set on a copy of a slice from a DataFrame.\n",
      "Try using .loc[row_indexer,col_indexer] = value instead\n",
      "\n",
      "See the caveats in the documentation: https://pandas.pydata.org/pandas-docs/stable/user_guide/indexing.html#returning-a-view-versus-a-copy\n",
      "  df_survey_attitudes['appliances_response_count'] = df_survey_attitudes[appliances_questions].notna().sum(axis=1)\n"
     ]
    }
   ],
   "source": [
    "# Remove specified households from script 1 (insufficient consumption data)\n",
    "households_to_remove = ['D0041', 'D0093', 'D0125', 'D0134', 'D0212', 'D0241', 'D0332', 'D0381', 'D0417', 'D0477', 'D0586', 'D0643', 'D0668', 'D0723', 'D0734', 'D0862', 'D0873', 'D0967']\n",
    "df_survey_d = df_survey_d[~df_survey_d['Household_id'].isin(households_to_remove)]\n",
    "print(f\"Number of households removed based on predefined list: {len(households_to_remove)}\")\n",
    "print(f\"Number of households remaining after removal: {len(df_survey_d)}\")\n",
    "\n",
    "# Remove households without a single response to Q01-Q17 (attitudes survey)\n",
    "attitudes_questions = [f'Q{i:02d}' for i in range(1, 18)]\n",
    "df_survey_d['attitudes_response_count'] = df_survey_d[attitudes_questions].notna().sum(axis=1)\n",
    "df_survey_attitudes = df_survey_d[df_survey_d['attitudes_response_count'] > 0]\n",
    "removed_attitudes = len(df_survey_d) - len(df_survey_attitudes)\n",
    "print(f\"2. Number of households removed due to lack of response to attitudes survey: {removed_attitudes}\")\n",
    "\n",
    "# Remove households without a single response to Q18-Q135 (appliances survey)\n",
    "appliances_questions = [f'Q{i}' for i in range(18, 136)]\n",
    "df_survey_attitudes['appliances_response_count'] = df_survey_attitudes[appliances_questions].notna().sum(axis=1)\n",
    "df_survey_filtered = df_survey_attitudes[df_survey_attitudes['appliances_response_count'] > 0]\n",
    "removed_appliances = len(df_survey_attitudes) - len(df_survey_filtered)\n",
    "print(f\"3. Number of households removed due to lack of response to appliances survey: {removed_appliances}\")\n",
    "\n",
    "# Print how many were removed in each step\n",
    "print(f\"\\nTotal households removed: {removed_attitudes + removed_appliances}\")\n",
    "print(f\"Final number of households: {len(df_survey_filtered)}\")\n",
    "\n",
    "# Create a dictionary mapping question IDs to full questions\n",
    "question_dict = dict(zip(df_questions['Question_id'], df_questions['Question']))"
   ]
  },
  {
   "cell_type": "markdown",
   "metadata": {},
   "source": [
    "# Filter households based on response rates"
   ]
  },
  {
   "cell_type": "code",
   "execution_count": 3,
   "metadata": {},
   "outputs": [
    {
     "name": "stdout",
     "output_type": "stream",
     "text": [
      "\n",
      "Top 10 most frequently un-answered questions:\n",
      "Q34 - Household Member 8 Age | 623\n",
      "Q26 - Household Member 8 Gender | 623\n",
      "Q25 - Household Member 7 Gender | 623\n",
      "Q33 - Household Member 7 Age | 623\n",
      "Q39 - Accomodation: Mobile | 621\n",
      "Q32 - Household Member 6 Age | 620\n",
      "Q121 - TV Type 6 | 620\n",
      "Q127 - TV Size 6 | 620\n",
      "Q24 - Household Member 6 Gender | 619\n",
      "Q126 - TV Size 5 | 615\n"
     ]
    }
   ],
   "source": [
    "# Find the most frequently un-answered questions\n",
    "all_response_counts = df_survey_filtered.isna().sum().sort_values(ascending=False)\n",
    "\n",
    "print(\"\\nTop 10 most frequently un-answered questions:\")\n",
    "for q_id, count in all_response_counts.head(10).items():\n",
    "    full_question = question_dict.get(q_id, \"Question text not found\")\n",
    "    print(f\"{q_id} - {full_question} | {count}\")"
   ]
  },
  {
   "cell_type": "markdown",
   "metadata": {},
   "source": [
    "# From the analysis, it is clear that some questions (such as household member 8's age) should be removed form the top un-answered questions list."
   ]
  },
  {
   "cell_type": "code",
   "execution_count": 4,
   "metadata": {},
   "outputs": [
    {
     "name": "stdout",
     "output_type": "stream",
     "text": [
      "Adjusted response rate calculated. This rate excludes questions that may not be applicable to all households,\n",
      "providing a more accurate representation of survey completion.\n"
     ]
    },
    {
     "name": "stderr",
     "output_type": "stream",
     "text": [
      "C:\\Users\\RaiN\\AppData\\Local\\Temp\\ipykernel_36664\\2949584156.py:14: SettingWithCopyWarning: \n",
      "A value is trying to be set on a copy of a slice from a DataFrame.\n",
      "Try using .loc[row_indexer,col_indexer] = value instead\n",
      "\n",
      "See the caveats in the documentation: https://pandas.pydata.org/pandas-docs/stable/user_guide/indexing.html#returning-a-view-versus-a-copy\n",
      "  df_survey_filtered.loc[:, 'adjusted_response_rate'] = df_survey_filtered[included_columns].notna().sum(axis=1) / len(included_columns)\n"
     ]
    }
   ],
   "source": [
    "# Define the list of questions to exclude\n",
    "exclude_ranges = [\n",
    "    (1, 11),    # Appliance-specific questions: Not all households have every appliance\n",
    "    (12, 17),   # Timer switch usage: Also appliance-specific\n",
    "    (19, 26),   # Household member gender: Not applicable for all household sizes\n",
    "    (27, 34),   # Household member age: Not applicable for all household sizes\n",
    "    (37, 39),   # Accommodation type: Mutually exclusive questions\n",
    "    (116, 127)  # Specific appliance details (TV): Not all households have these appliances\n",
    "]\n",
    "exclude_questions = [f'Q{i:02d}' for r in exclude_ranges for i in range(r[0], r[1]+1)]\n",
    "\n",
    "# Calculate adjusted response rate\n",
    "included_columns = [col for col in df_survey_filtered.columns if col not in exclude_questions and col != 'Household_id']\n",
    "df_survey_filtered.loc[:, 'adjusted_response_rate'] = df_survey_filtered[included_columns].notna().sum(axis=1) / len(included_columns)\n",
    "\n",
    "print(\"Adjusted response rate calculated. This rate excludes questions that may not be applicable to all households,\")\n",
    "print(\"providing a more accurate representation of survey completion.\")"
   ]
  },
  {
   "cell_type": "code",
   "execution_count": 5,
   "metadata": {},
   "outputs": [
    {
     "name": "stdout",
     "output_type": "stream",
     "text": [
      "Number of households after removing those with >20% non-response rate: 622\n",
      "Total number of households remaining in the final dataset: 608\n"
     ]
    }
   ],
   "source": [
    "# Eliminate households with >20% non-response rate\n",
    "df_survey_filtered_80 = df_survey_filtered[df_survey_filtered['adjusted_response_rate'] >= 0.8].copy()\n",
    "\n",
    "print(f\"Number of households after removing those with >20% non-response rate: {len(df_survey_filtered_80)}\")\n",
    "\n",
    "# Remove households with inconsistent demographic information\n",
    "def demo_missing_or_inconsistent(row):\n",
    "    household_size_missing = pd.isna(row['Q18'])\n",
    "    all_gender_missing = all(pd.isna(row[f'Q{i}']) for i in range(19, 27))\n",
    "    all_age_missing = all(pd.isna(row[f'Q{i}']) for i in range(27, 35))\n",
    "    all_missing = household_size_missing and all_gender_missing and all_age_missing\n",
    "    size = row['Q18'] if pd.notna(row['Q18']) else 0\n",
    "    gender_count = sum(pd.notna(row[f'Q{i}']) for i in range(19, 27))\n",
    "    age_count = sum(pd.notna(row[f'Q{i}']) for i in range(27, 35))\n",
    "    all_disagree = (size != gender_count) and (size != age_count) and (gender_count != age_count)\n",
    "    return all_missing or all_disagree\n",
    "\n",
    "df_survey_filtered_80['demo_missing_or_inconsistent'] = df_survey_filtered_80.apply(demo_missing_or_inconsistent, axis=1)\n",
    "df_survey_final = df_survey_filtered_80[~df_survey_filtered_80['demo_missing_or_inconsistent']].copy()\n",
    "\n",
    "print(f\"Total number of households remaining in the final dataset: {len(df_survey_final)}\")"
   ]
  },
  {
   "cell_type": "markdown",
   "metadata": {},
   "source": [
    "### Let's take a look at what the adjusted response rate (after excluding the questions identified above) looks like"
   ]
  },
  {
   "cell_type": "code",
   "execution_count": 6,
   "metadata": {},
   "outputs": [
    {
     "name": "stdout",
     "output_type": "stream",
     "text": [
      "\n",
      "Final cleaned survey dataset has been exported to ''2) responses_to_selected_survey_questions_filtered.csv'\n"
     ]
    }
   ],
   "source": [
    "# Drop temporary columns\n",
    "df_survey_final_export = df_survey_final.drop(columns=['adjusted_response_rate', 'attitudes_response_count', 'appliances_response_count', 'demo_missing_or_inconsistent'])\n",
    "\n",
    "# Export the final cleaned dataset\n",
    "df_survey_final_export.to_csv('2) responses_to_selected_survey_questions_filtered.csv', index=False)\n",
    "print(\"\\nFinal cleaned survey dataset has been exported to ''2) responses_to_selected_survey_questions_filtered.csv'\")"
   ]
  },
  {
   "cell_type": "code",
   "execution_count": 7,
   "metadata": {},
   "outputs": [
    {
     "name": "stdout",
     "output_type": "stream",
     "text": [
      "Number of households in final dataset: 608\n",
      "Columns in final dataset: ['Household_id', 'Q01', 'Q02', 'Q03', 'Q04', 'Q05', 'Q06', 'Q07', 'Q08', 'Q09', 'Q10', 'Q11', 'Q12', 'Q13', 'Q14', 'Q15', 'Q16', 'Q17', 'Q18', 'Q19', 'Q20', 'Q21', 'Q22', 'Q23', 'Q24', 'Q25', 'Q26', 'Q27', 'Q28', 'Q29', 'Q30', 'Q31', 'Q32', 'Q33', 'Q34', 'Q35', 'Q36', 'Q37', 'Q38', 'Q39', 'Q40', 'Q41', 'Q42', 'Q43', 'Q44', 'Q45', 'Q46', 'Q47', 'Q48', 'Q49', 'Q50', 'Q51', 'Q52', 'Q53', 'Q54', 'Q55', 'Q56', 'Q57', 'Q58', 'Q59', 'Q60', 'Q61', 'Q62', 'Q63', 'Q64', 'Q65', 'Q66', 'Q67', 'Q68', 'Q69', 'Q70', 'Q71', 'Q72', 'Q73', 'Q74', 'Q75', 'Q76', 'Q77', 'Q78', 'Q79', 'Q80', 'Q81', 'Q82', 'Q83', 'Q84', 'Q85', 'Q86', 'Q87', 'Q88', 'Q89', 'Q90', 'Q91', 'Q92', 'Q93', 'Q94', 'Q95', 'Q96', 'Q97', 'Q98', 'Q99', 'Q100', 'Q101', 'Q102', 'Q103', 'Q104', 'Q105', 'Q106', 'Q107', 'Q108', 'Q109', 'Q110', 'Q111', 'Q112', 'Q113', 'Q114', 'Q115', 'Q116', 'Q117', 'Q118', 'Q119', 'Q120', 'Q121', 'Q122', 'Q123', 'Q124', 'Q125', 'Q126', 'Q127', 'Q128', 'Q129', 'Q130', 'Q131', 'Q132', 'Q133', 'Q134', 'Q135']\n"
     ]
    }
   ],
   "source": [
    "# Print some information for verification purposes\n",
    "print(f\"Number of households in final dataset: {len(df_survey_final_export)}\")\n",
    "print(f\"Columns in final dataset: {df_survey_final_export.columns.tolist()}\")"
   ]
  },
  {
   "cell_type": "code",
   "execution_count": 8,
   "metadata": {},
   "outputs": [
    {
     "data": {
      "image/png": "[encoded data removed]",
      "text/plain": [
       "<Figure size 1000x600 with 1 Axes>"
      ]
     },
     "metadata": {},
     "output_type": "display_data"
    }
   ],
   "source": [
    "# Visualize final response rates\n",
    "plt.figure(figsize=(10, 6))\n",
    "sns.histplot(df_survey_final['adjusted_response_rate'], bins=20, kde=True)\n",
    "plt.title('Distribution of Final Response Rates')\n",
    "plt.xlabel('Final Response Rate')\n",
    "plt.ylabel('Count')\n",
    "plt.show()"
   ]
  }
 ],
 "metadata": {
  "kernelspec": {
   "display_name": "Python 3",
   "language": "python",
   "name": "python3"
  },
  "language_info": {
   "codemirror_mode": {
    "name": "ipython",
    "version": 3
   },
   "file_extension": ".py",
   "mimetype": "text/x-python",
   "name": "python",
   "nbconvert_exporter": "python",
   "pygments_lexer": "ipython3",
   "version": "3.12.0"
  }
 },
 "nbformat": 4,
 "nbformat_minor": 2
}
