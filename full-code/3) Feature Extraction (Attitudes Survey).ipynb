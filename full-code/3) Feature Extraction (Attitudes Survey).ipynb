{
 "cells": [
  {
   "cell_type": "code",
   "execution_count": 1,
   "metadata": {},
   "outputs": [],
   "source": [
    "import pandas as pd\n",
    "import numpy as np\n",
    "\n",
    "# Load the datasets\n",
    "df_consumption = pd.read_csv('1a) consumption_and_tariff_data_hourly.csv', low_memory=False)\n",
    "df_survey = pd.read_csv('2) responses_to_selected_survey_questions_filtered.csv')"
   ]
  },
  {
   "cell_type": "markdown",
   "metadata": {},
   "source": [
    "### I opted to encode the variables (categorical and binary) right after extracting the features to allow for immediate observation/feedback on the data transformation. This approach makes the debugging process much easier compared to encoding them at the very end."
   ]
  },
  {
   "cell_type": "code",
   "execution_count": 2,
   "metadata": {},
   "outputs": [],
   "source": [
    "# Q01-Q11: List of appliances and their corresponding questions\n",
    "appliances = ['Washing machine', 'Tumble dryer', 'Dishwasher', 'Immersion water heater', \n",
    "              'Electric oven', 'Electric hob', 'Ironing', 'Electric shower', 'Kettle', \n",
    "              'Lighting', 'Electric heater']\n",
    "\n",
    "# Mapping for appliance questions\n",
    "appliance_questions = {appliance: f'Q{i+1:02d}' for i, appliance in enumerate(appliances)}\n",
    "\n",
    "# Q01-Q11: Process fixed schedules\n",
    "for appliance, question in appliance_questions.items():\n",
    "    df_survey[f'{appliance.lower().replace(\" \", \"_\")}_fixed_schedule'] = df_survey[question].apply(\n",
    "        lambda x: np.nan if x == 'No reply' else (0 if pd.isnull(x) or x == 'No' else 1)\n",
    "    )"
   ]
  },
  {
   "cell_type": "code",
   "execution_count": 3,
   "metadata": {},
   "outputs": [],
   "source": [
    "# Q12-Q16: Timer switch questions and their corresponding appliances\n",
    "timer_switch_questions = {\n",
    "    'Q12': 'Washer-dryer (combined)',\n",
    "    'Q13': 'Washing machine',\n",
    "    'Q14': 'Tumble dryer',\n",
    "    'Q15': 'Dishwasher',\n",
    "    'Q16': 'Electric space heating' \n",
    "}\n",
    "\n",
    "'''\n",
    "Note: Q17, the 'Electric water heating' variable has been removed from the analysis due to data quality issues. In this column, the 'We don't have this appliance' \n",
    "option did not receive a single response, resulting in an 89% missing response rate, making it impossible to distinguish between non-ownership and truly \n",
    "missing values.\n",
    "'''\n",
    "\n",
    "# Q12-Q16: Function to map timer switch responses\n",
    "def map_timer_usage(x):\n",
    "    if pd.isnull(x) or x == 'No reply':\n",
    "        return np.nan, np.nan\n",
    "    elif x == \"We don't have this appliance\":\n",
    "        return 0, 0  # No appliance, no timer use\n",
    "    elif x in [\"We don't have a timer function on this appliance\",\n",
    "               \"I'm not sure if we have a timer on this appliance\",\n",
    "               \"We have a timer on this appliance but we never use the timer\"]:\n",
    "        return 1, 0  # Have appliance, no timer or never use timer\n",
    "    elif x == \"We have a timer on this appliance and sometimes use the timer\":\n",
    "        return 1, 1  # Sometimes use timer\n",
    "    elif x == \"We have a timer on this appliance and often use the timer\":\n",
    "        return 1, 2  # Often use timer\n",
    "    else:\n",
    "        return np.nan, np.nan\n",
    "\n",
    "# Q12-Q16: Apply the function\n",
    "for question, appliance in timer_switch_questions.items():\n",
    "    appliance_name = appliance.lower().replace(\" \", \"_\").replace(\"(\", \"\").replace(\")\", \"\")\n",
    "    df_survey[f'{appliance_name}_ownership'], df_survey[f'{appliance_name}_timer_use'] = zip(*df_survey[question].apply(map_timer_usage))"
   ]
  },
  {
   "cell_type": "code",
   "execution_count": 4,
   "metadata": {},
   "outputs": [
    {
     "name": "stdout",
     "output_type": "stream",
     "text": [
      "\n",
      "Household energy profile data has been exported to '3) household_energy_consumption_with_attitudinal_features.csv'\n"
     ]
    }
   ],
   "source": [
    "# Prepare columns for merging (attitudes survey)\n",
    "attitudes_columns = ['Household_id'] + \\\n",
    "                    [f'{appliance.lower().replace(\" \", \"_\")}_fixed_schedule' for appliance in appliances] + \\\n",
    "                    [f'{appliance.lower().replace(\" \", \"_\").replace(\"(\", \"\").replace(\")\", \"\")}_timer_use' for appliance in timer_switch_questions.values()] + \\\n",
    "                    [f'{appliance.lower().replace(\" \", \"_\").replace(\"(\", \"\").replace(\")\", \"\")}_ownership' for appliance in timer_switch_questions.values()]\n",
    "\n",
    "# Merge attitudes survey with consumption data\n",
    "df_merged = pd.merge(df_consumption, df_survey[attitudes_columns], left_on='household_id', right_on='Household_id', how='inner')\n",
    "\n",
    "# Drop the redundant Household_id column\n",
    "df_merged = df_merged.drop('Household_id', axis=1)\n",
    "\n",
    "# Export the merged data\n",
    "df_merged.to_csv('3) household_energy_consumption_with_attitudinal_features.csv', index=False)\n",
    "print(\"\\nHousehold energy profile data has been exported to '3) household_energy_consumption_with_attitudinal_features.csv'\")"
   ]
  },
  {
   "cell_type": "code",
   "execution_count": 5,
   "metadata": {},
   "outputs": [
    {
     "name": "stdout",
     "output_type": "stream",
     "text": [
      "Merged data shape: (5326080, 25)\n",
      "Number of households in merged data: 608\n"
     ]
    }
   ],
   "source": [
    "print(f\"Merged data shape: {df_merged.shape}\")\n",
    "print(f\"Number of households in merged data: {df_merged['household_id'].nunique()}\")"
   ]
  }
 ],
 "metadata": {
  "kernelspec": {
   "display_name": "Python 3",
   "language": "python",
   "name": "python3"
  },
  "language_info": {
   "codemirror_mode": {
    "name": "ipython",
    "version": 3
   },
   "file_extension": ".py",
   "mimetype": "text/x-python",
   "name": "python",
   "nbconvert_exporter": "python",
   "pygments_lexer": "ipython3",
   "version": "3.12.0"
  }
 },
 "nbformat": 4,
 "nbformat_minor": 2
}
